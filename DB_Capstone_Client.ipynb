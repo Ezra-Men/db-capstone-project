{
 "cells": [
  {
   "cell_type": "code",
   "execution_count": 14,
   "id": "bbeda7c8-ee5e-4ee0-90ed-b78463549b1e",
   "metadata": {},
   "outputs": [],
   "source": [
    "import mysql.connector as connector"
   ]
  },
  {
   "cell_type": "code",
   "execution_count": 27,
   "id": "00ca81b8-c7f9-41a4-998a-f76ac2485575",
   "metadata": {},
   "outputs": [],
   "source": [
    "connection = connector.connect(user = \"root\", password = \"rootpassword\", db = \"littlelemndb\")"
   ]
  },
  {
   "cell_type": "code",
   "execution_count": 28,
   "id": "df114969-1366-46b3-bc02-aa0667d1a072",
   "metadata": {},
   "outputs": [],
   "source": [
    "cursor = connection.cursor()"
   ]
  },
  {
   "cell_type": "code",
   "execution_count": 29,
   "id": "b6d2cff8-e037-4daa-9772-ef05992e052e",
   "metadata": {},
   "outputs": [],
   "source": [
    "use_database = \"\"\" USE littlelemndb\"\"\"\n",
    "cursor.execute(use_database)"
   ]
  },
  {
   "cell_type": "code",
   "execution_count": 30,
   "id": "3f4c7405-16a0-4c33-b9be-1048d9b53a85",
   "metadata": {},
   "outputs": [
    {
     "name": "stdout",
     "output_type": "stream",
     "text": [
      "('bookings',)\n",
      "('customers',)\n",
      "('employee',)\n",
      "('menu',)\n",
      "('order_items',)\n",
      "('orderdeliverystatus',)\n",
      "('orders',)\n",
      "('ordersview',)\n"
     ]
    }
   ],
   "source": [
    "show_tables = \"\"\" SHOW TABLES\"\"\"\n",
    "cursor.execute(show_tables)\n",
    "\n",
    "# Fetch and print the results\n",
    "results = cursor.fetchall()\n",
    "for row in results:\n",
    "    print(row)\n"
   ]
  },
  {
   "cell_type": "code",
   "execution_count": 33,
   "id": "f4043ed7-2258-4132-8089-a7c40f0e952d",
   "metadata": {},
   "outputs": [
    {
     "name": "stdout",
     "output_type": "stream",
     "text": [
      "('Emily Davis', 'emily.davis@example.com', 6, Decimal('70.00'))\n",
      "('David Lee', 'david.lee@example.com', 7, Decimal('80.00'))\n",
      "('Sophia Patel', 'sophia.patel@example.com', 8, Decimal('90.00'))\n"
     ]
    }
   ],
   "source": [
    "query = \"\"\" \n",
    "    SELECT \n",
    "        c.FullName, \n",
    "        c.Email, \n",
    "        c.CustomerID, \n",
    "        SUM(o.TotalCost) AS TotalCost \n",
    "    FROM \n",
    "        Customers AS c \n",
    "    JOIN \n",
    "        Orders AS o ON o.CustomerID = c.CustomerID \n",
    "    WHERE TotalCost > 60\n",
    "    GROUP BY \n",
    "        c.FullName, \n",
    "        c.Email, \n",
    "        c.CustomerID \n",
    "    \n",
    "\"\"\"\n",
    "cursor.execute(query)\n",
    "result = cursor.fetchall()\n",
    "for row in result:\n",
    "    print(row)"
   ]
  },
  {
   "cell_type": "code",
   "execution_count": null,
   "id": "c1be157f-b67b-43ae-9a33-dc1f77a1a336",
   "metadata": {},
   "outputs": [],
   "source": []
  }
 ],
 "metadata": {
  "kernelspec": {
   "display_name": "Python 3 (ipykernel)",
   "language": "python",
   "name": "python3"
  },
  "language_info": {
   "codemirror_mode": {
    "name": "ipython",
    "version": 3
   },
   "file_extension": ".py",
   "mimetype": "text/x-python",
   "name": "python",
   "nbconvert_exporter": "python",
   "pygments_lexer": "ipython3",
   "version": "3.12.8"
  }
 },
 "nbformat": 4,
 "nbformat_minor": 5
}
